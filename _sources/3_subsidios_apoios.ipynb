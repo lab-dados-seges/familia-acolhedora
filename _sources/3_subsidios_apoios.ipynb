{
 "cells": [
  {
   "cell_type": "markdown",
   "id": "7293c0ad-0ff8-49c6-ba55-1e183fc9565e",
   "metadata": {},
   "source": [
    "# 3. Análise de subsídios ofertados às famílias acolhedoras"
   ]
  },
  {
   "cell_type": "markdown",
   "id": "099d709e-e061-4f69-a7e2-0916fdf67786",
   "metadata": {},
   "source": [
    "O objetivo da análise é verificar se há e quais são os tipos de subsídio oferecido às famílias que estão acolhendo no momento."
   ]
  },
  {
   "cell_type": "code",
   "execution_count": 2,
   "id": "48acdad7-df71-4778-9799-6d31affe5832",
   "metadata": {},
   "outputs": [],
   "source": [
    "import pandas as pd\n",
    "import matplotlib.pyplot as plt\n",
    "import seaborn as sns"
   ]
  },
  {
   "cell_type": "code",
   "execution_count": 3,
   "id": "f9464cd8-f04d-4a21-9fa0-617af29c6a10",
   "metadata": {},
   "outputs": [],
   "source": [
    "df_dados_gerais = pd.read_csv('../data/familia_acolhedora/dados_gerais_tratado.csv')"
   ]
  },
  {
   "cell_type": "code",
   "execution_count": 4,
   "id": "3bef2f89-6047-4dda-bd66-6209b338f8af",
   "metadata": {},
   "outputs": [
    {
     "data": {
      "text/html": [
       "<div>\n",
       "<style scoped>\n",
       "    .dataframe tbody tr th:only-of-type {\n",
       "        vertical-align: middle;\n",
       "    }\n",
       "\n",
       "    .dataframe tbody tr th {\n",
       "        vertical-align: top;\n",
       "    }\n",
       "\n",
       "    .dataframe thead th {\n",
       "        text-align: right;\n",
       "    }\n",
       "</style>\n",
       "<table border=\"1\" class=\"dataframe\">\n",
       "  <thead>\n",
       "    <tr style=\"text-align: right;\">\n",
       "      <th></th>\n",
       "      <th>IBGE</th>\n",
       "      <th>NU_IDENTIFICADOR</th>\n",
       "      <th>municipio</th>\n",
       "      <th>uf</th>\n",
       "      <th>data_implementacao_unidade</th>\n",
       "      <th>Latitude</th>\n",
       "      <th>Longitude</th>\n",
       "      <th>natureza_unidade</th>\n",
       "      <th>custo_manutencao</th>\n",
       "      <th>servico_regulamentado</th>\n",
       "      <th>...</th>\n",
       "      <th>coordenador_saf_situacao</th>\n",
       "      <th>capaci_equipe_tec_saf_presencial</th>\n",
       "      <th>capaci_equipe_tec_saf_ead</th>\n",
       "      <th>capaci_equipe_tec_saf_nao_faz</th>\n",
       "      <th>capaci_equipe_tec_saf_presencial_qtd</th>\n",
       "      <th>capaci_equipe_tec_saf_ead_qtd</th>\n",
       "      <th>IBGE7</th>\n",
       "      <th>nome_da_uf</th>\n",
       "      <th>Regiao</th>\n",
       "      <th>Município</th>\n",
       "    </tr>\n",
       "  </thead>\n",
       "  <tbody>\n",
       "    <tr>\n",
       "      <th>0</th>\n",
       "      <td>110011</td>\n",
       "      <td>1,10011E+12</td>\n",
       "      <td>JARU</td>\n",
       "      <td>RO</td>\n",
       "      <td>29/03/2023</td>\n",
       "      <td>-10.439</td>\n",
       "      <td>-62.466</td>\n",
       "      <td>Governamental</td>\n",
       "      <td>NaN</td>\n",
       "      <td>Sim, por lei</td>\n",
       "      <td>...</td>\n",
       "      <td>Exerce concomitantemente a função de coordenad...</td>\n",
       "      <td>Não</td>\n",
       "      <td>Não</td>\n",
       "      <td>Não</td>\n",
       "      <td>NaN</td>\n",
       "      <td>NaN</td>\n",
       "      <td>1100114</td>\n",
       "      <td>Rondonia</td>\n",
       "      <td>Região Norte</td>\n",
       "      <td>Jaru</td>\n",
       "    </tr>\n",
       "    <tr>\n",
       "      <th>1</th>\n",
       "      <td>110012</td>\n",
       "      <td>1,10012E+12</td>\n",
       "      <td>JI-PARANA</td>\n",
       "      <td>RO</td>\n",
       "      <td>02/01/2022</td>\n",
       "      <td>-10.876.486.067.028.500</td>\n",
       "      <td>-619.596.290.588.379</td>\n",
       "      <td>Governamental</td>\n",
       "      <td>NaN</td>\n",
       "      <td>Sim, por lei</td>\n",
       "      <td>...</td>\n",
       "      <td>Exerce exclusivamente a função de coordenador(...</td>\n",
       "      <td>Sim</td>\n",
       "      <td>Sim</td>\n",
       "      <td>Não</td>\n",
       "      <td>3.0</td>\n",
       "      <td>4.0</td>\n",
       "      <td>1100122</td>\n",
       "      <td>Rondonia</td>\n",
       "      <td>Região Norte</td>\n",
       "      <td>Ji-Paraná</td>\n",
       "    </tr>\n",
       "    <tr>\n",
       "      <th>2</th>\n",
       "      <td>110020</td>\n",
       "      <td>1,1002E+12</td>\n",
       "      <td>PORTO VELHO</td>\n",
       "      <td>RO</td>\n",
       "      <td>13/12/2017</td>\n",
       "      <td>-915.359.258.390.788</td>\n",
       "      <td>-643.068.141.967.022</td>\n",
       "      <td>Governamental</td>\n",
       "      <td>NaN</td>\n",
       "      <td>Sim, por lei</td>\n",
       "      <td>...</td>\n",
       "      <td>Exerce exclusivamente a função de coordenador(...</td>\n",
       "      <td>Sim</td>\n",
       "      <td>Sim</td>\n",
       "      <td>Não</td>\n",
       "      <td>5.0</td>\n",
       "      <td>5.0</td>\n",
       "      <td>1100205</td>\n",
       "      <td>Rondonia</td>\n",
       "      <td>Região Norte</td>\n",
       "      <td>Porto Velho</td>\n",
       "    </tr>\n",
       "    <tr>\n",
       "      <th>3</th>\n",
       "      <td>120040</td>\n",
       "      <td>1,2004E+12</td>\n",
       "      <td>RIO BRANCO</td>\n",
       "      <td>AC</td>\n",
       "      <td>17/05/2013</td>\n",
       "      <td>-9.948.852.227.687.540</td>\n",
       "      <td>-6.785.414.814.949.030</td>\n",
       "      <td>Governamental</td>\n",
       "      <td>NaN</td>\n",
       "      <td>Sim, por lei</td>\n",
       "      <td>...</td>\n",
       "      <td>Exerce exclusivamente a função de coordenador(...</td>\n",
       "      <td>Não</td>\n",
       "      <td>Não</td>\n",
       "      <td>Sim</td>\n",
       "      <td>NaN</td>\n",
       "      <td>NaN</td>\n",
       "      <td>1200401</td>\n",
       "      <td>Acre</td>\n",
       "      <td>Região Norte</td>\n",
       "      <td>Rio Branco</td>\n",
       "    </tr>\n",
       "    <tr>\n",
       "      <th>4</th>\n",
       "      <td>130170</td>\n",
       "      <td>1,3017E+12</td>\n",
       "      <td>HUMAITA</td>\n",
       "      <td>AM</td>\n",
       "      <td>28/12/2020</td>\n",
       "      <td>-7.519.639.784.496.380</td>\n",
       "      <td>-63.031.353.950.500.400</td>\n",
       "      <td>Governamental</td>\n",
       "      <td>NaN</td>\n",
       "      <td>Sim, por lei</td>\n",
       "      <td>...</td>\n",
       "      <td>Exerce exclusivamente a função de coordenador(...</td>\n",
       "      <td>Não</td>\n",
       "      <td>Não</td>\n",
       "      <td>Sim</td>\n",
       "      <td>NaN</td>\n",
       "      <td>NaN</td>\n",
       "      <td>1301704</td>\n",
       "      <td>Amazonas</td>\n",
       "      <td>Região Norte</td>\n",
       "      <td>Humaitá</td>\n",
       "    </tr>\n",
       "  </tbody>\n",
       "</table>\n",
       "<p>5 rows × 174 columns</p>\n",
       "</div>"
      ],
      "text/plain": [
       "     IBGE NU_IDENTIFICADOR    municipio  uf data_implementacao_unidade  \\\n",
       "0  110011      1,10011E+12         JARU  RO                 29/03/2023   \n",
       "1  110012      1,10012E+12    JI-PARANA  RO                 02/01/2022   \n",
       "2  110020       1,1002E+12  PORTO VELHO  RO                 13/12/2017   \n",
       "3  120040       1,2004E+12   RIO BRANCO  AC                 17/05/2013   \n",
       "4  130170       1,3017E+12      HUMAITA  AM                 28/12/2020   \n",
       "\n",
       "                  Latitude                Longitude natureza_unidade  \\\n",
       "0                  -10.439                  -62.466    Governamental   \n",
       "1  -10.876.486.067.028.500     -619.596.290.588.379    Governamental   \n",
       "2     -915.359.258.390.788     -643.068.141.967.022    Governamental   \n",
       "3   -9.948.852.227.687.540   -6.785.414.814.949.030    Governamental   \n",
       "4   -7.519.639.784.496.380  -63.031.353.950.500.400    Governamental   \n",
       "\n",
       "  custo_manutencao servico_regulamentado  ...  \\\n",
       "0              NaN          Sim, por lei  ...   \n",
       "1              NaN          Sim, por lei  ...   \n",
       "2              NaN          Sim, por lei  ...   \n",
       "3              NaN          Sim, por lei  ...   \n",
       "4              NaN          Sim, por lei  ...   \n",
       "\n",
       "                            coordenador_saf_situacao  \\\n",
       "0  Exerce concomitantemente a função de coordenad...   \n",
       "1  Exerce exclusivamente a função de coordenador(...   \n",
       "2  Exerce exclusivamente a função de coordenador(...   \n",
       "3  Exerce exclusivamente a função de coordenador(...   \n",
       "4  Exerce exclusivamente a função de coordenador(...   \n",
       "\n",
       "  capaci_equipe_tec_saf_presencial capaci_equipe_tec_saf_ead  \\\n",
       "0                              Não                       Não   \n",
       "1                              Sim                       Sim   \n",
       "2                              Sim                       Sim   \n",
       "3                              Não                       Não   \n",
       "4                              Não                       Não   \n",
       "\n",
       "  capaci_equipe_tec_saf_nao_faz capaci_equipe_tec_saf_presencial_qtd  \\\n",
       "0                           Não                                  NaN   \n",
       "1                           Não                                  3.0   \n",
       "2                           Não                                  5.0   \n",
       "3                           Sim                                  NaN   \n",
       "4                           Sim                                  NaN   \n",
       "\n",
       "  capaci_equipe_tec_saf_ead_qtd    IBGE7 nome_da_uf        Regiao    Município  \n",
       "0                           NaN  1100114   Rondonia  Região Norte         Jaru  \n",
       "1                           4.0  1100122   Rondonia  Região Norte    Ji-Paraná  \n",
       "2                           5.0  1100205   Rondonia  Região Norte  Porto Velho  \n",
       "3                           NaN  1200401       Acre  Região Norte   Rio Branco  \n",
       "4                           NaN  1301704   Amazonas  Região Norte      Humaitá  \n",
       "\n",
       "[5 rows x 174 columns]"
      ]
     },
     "execution_count": 4,
     "metadata": {},
     "output_type": "execute_result"
    }
   ],
   "source": [
    "df_dados_gerais.head()"
   ]
  },
  {
   "cell_type": "code",
   "execution_count": 5,
   "id": "7fd62536-431e-4e53-84ca-3c5438bbea02",
   "metadata": {},
   "outputs": [
    {
     "data": {
      "text/plain": [
       "['IBGE',\n",
       " 'NU_IDENTIFICADOR',\n",
       " 'municipio',\n",
       " 'uf',\n",
       " 'data_implementacao_unidade',\n",
       " 'Latitude',\n",
       " 'Longitude',\n",
       " 'natureza_unidade',\n",
       " 'custo_manutencao',\n",
       " 'servico_regulamentado',\n",
       " 'ano_implementacao_servico',\n",
       " 'subsidio_valor_mensal',\n",
       " 'subsidio_itens_manutencao',\n",
       " 'subsidio_mobiliario_transporte',\n",
       " 'subsidio_isencao_imposto_taxa',\n",
       " 'subsidio_outros',\n",
       " 'subsidio_nao_repassa',\n",
       " 'subsidio_outros_quais',\n",
       " 'fam_aceita_vinculo_irmaos',\n",
       " 'qtd_criancas_acolhidas',\n",
       " 'qtd_criancas_acolhidas_12meses',\n",
       " 'qtd_masc_0_2',\n",
       " 'qtd_masc_3_5',\n",
       " 'qtd_masc_6_11',\n",
       " 'qtd_masc_12_13',\n",
       " 'qtd_masc_14_15',\n",
       " 'qtd_masc_16_17',\n",
       " 'qtd_masc_acima_18',\n",
       " 'qtd_masc_total',\n",
       " 'qtd_fem_0_2',\n",
       " 'qtd_fem_3_5',\n",
       " 'qtd_fem_6_11',\n",
       " 'qtd_fem_12_13',\n",
       " 'qtd_fem_14_15',\n",
       " 'qtd_fem_16_17',\n",
       " 'qtd_fem_acima_18',\n",
       " 'qtd_refugiados_imigrantes',\n",
       " 'qtd_venezuelanos',\n",
       " 'qtd_criancas_tempo_servico_menos_1mes',\n",
       " 'qtd_criancas_tempo_servico_1_3meses',\n",
       " 'qtd_criancas_tempo_servico_4_6meses',\n",
       " 'qtd_criancas_tempo_servico_7_12meses',\n",
       " 'qtd_criancas_tempo_servico_13_18meses',\n",
       " 'qtd_criancas_tempo_servico_19_24meses',\n",
       " 'qtd_criancas_tempo_servico_25_48meses',\n",
       " 'qtd_criancas_tempo_servico_49_72meses',\n",
       " 'qtd_criancas_tempo_mais_72meses',\n",
       " 'qtd_criancas_deficiencia',\n",
       " 'qtd_criancas_transt_sofri_psiquico',\n",
       " 'qtd_criancas_necessidade_especial',\n",
       " 'qtd_adoles_socioeducativo',\n",
       " 'qtd_criancas_traj_de_rua',\n",
       " 'qtd_criancas_indigenas',\n",
       " 'qtd_criancas_outros_povos_trad',\n",
       " 'qtd_criancas_dependencia_drogas',\n",
       " 'qtd_criancas_gestantes',\n",
       " 'qtd_criancas_pretas',\n",
       " 'qtd_criancas_pardas',\n",
       " 'qtd_criancas_brancas',\n",
       " 'qtd_criancas_amarelas',\n",
       " 'qtd_criancas_raca_indigenas',\n",
       " 'qtd_motivo_entrega_voluntaria_adocao',\n",
       " 'qtd_motivo_orfandade',\n",
       " 'qtd_motivo_abandono',\n",
       " 'qtd_motivo_pais_usuarios',\n",
       " 'qtd_motivo_pais_com_deficiencia',\n",
       " 'qtd_motivo_pais_transt_sofri_psiquicos',\n",
       " 'qtd_motivo_pais_ausentes_doenca',\n",
       " 'qtd_motivo_pais_prisao_ou_internacao',\n",
       " 'qtd_motivo_violencia_domestica_fisica',\n",
       " 'qtd_motivo_violencia_domestica_psicologica',\n",
       " 'qtd_motivo_abuso_sex_intrafamiliar',\n",
       " 'qtd_motivo_exploracao_sex',\n",
       " 'qtd_motivo_conflito_familiar',\n",
       " 'qtd_motivo_exploracao_trabalho',\n",
       " 'qtd_motivo_pais_cond_especif_saude',\n",
       " 'qtd_motivo_pais_s_condicoes_depend_quim',\n",
       " 'qtd_motivo_ameaca_morte',\n",
       " 'qtd_motivo_situacao_rua',\n",
       " 'qtd_motivo_negligencia_familia',\n",
       " 'qtd_motivo_fam_situacao_rua',\n",
       " 'qtd_motivo_fam_moradia_insalubre',\n",
       " 'qtd_motivo_fam_carencia_rec_materiais',\n",
       " 'qtd_oriundos_pbf',\n",
       " 'qtd_oriundos_fam_menos_1sm',\n",
       " 'divulgacao_outdoors_busdoors',\n",
       " 'divulgacao_materiais_grande_circ',\n",
       " 'divulgacao_radio_tv_impressa',\n",
       " 'divulgacao_eventos_palestras',\n",
       " 'divulgacao_redes_sociais',\n",
       " 'divulgacao_articulacao_liderancas',\n",
       " 'divulgacao_outros',\n",
       " 'divulgacao_nao_faz',\n",
       " 'divulgacao_outros_quais',\n",
       " 'ch_capacitacao_inicial',\n",
       " 'selecao_fam_reunioes',\n",
       " 'selecao_fam_analise_doc',\n",
       " 'selecao_fam_entrevistas',\n",
       " 'selecao_fam_visitas_domiciliares',\n",
       " 'selecao_fam_outros',\n",
       " 'selecao_fam_nao_faz',\n",
       " 'selecao_fam_outros_quais',\n",
       " 'capac_ini_conti_fam_encontros_grupos',\n",
       " 'capac_ini_conti_fam_encontros_indivi',\n",
       " 'capac_ini_conti_fam_paletras',\n",
       " 'capac_ini_conti_fam_rodas_conversa',\n",
       " 'capac_ini_conti_fam_outros',\n",
       " 'capac_ini_conti_fam_nao_faz',\n",
       " 'capac_ini_conti_fam_outros_quais',\n",
       " 'acompanhamento_fam_aprox_supervi',\n",
       " 'acompanhamento_fam_visitas_domicil',\n",
       " 'acompanhamento_fam_aten_psicoss',\n",
       " 'acompanhamento_fam_contato_tel',\n",
       " 'acompanhamento_fam_outros',\n",
       " 'acompanhamento_fam_outros_quais',\n",
       " 'ativi_sistematicas_atend_psicosso_indivi',\n",
       " 'ativi_sistematicas_escuta_qualific',\n",
       " 'ativi_sistematicas_acompanh_escolar',\n",
       " 'ativi_sistematicas_acompanh_saude',\n",
       " 'ativi_sistematicas_encaminhc_docs',\n",
       " 'ativi_sistematicas_encaminhc_qualif_prof',\n",
       " 'ativi_sistematicas_identifi_fam_nat_exten',\n",
       " 'ativi_sistematicas_viabili_encon_fam_ori',\n",
       " 'ativi_sistematicas_constr_plano_acomp_fam_ori',\n",
       " 'ativi_sistematicas_atend_psicosso_indiv_fam_ori',\n",
       " 'ativi_sistematicas_reunioes_fam_ori',\n",
       " 'ativi_sistematicas_entrevis_fam_ori',\n",
       " 'ativi_sistematicas_visi_domic_fam_ori',\n",
       " 'ativi_sistematicas_genograma_ecomapa',\n",
       " 'ativi_sistematicas_relat_trimes_judic',\n",
       " 'ativi_sistematicas_estudo_caso',\n",
       " 'ativi_sistematicas_encaminhc_rede',\n",
       " 'ativi_sistematicas_discuss_casos_rede',\n",
       " 'ativi_sistematicas_outros',\n",
       " 'ativi_sistematicas_nao_faz',\n",
       " 'ativi_sistematicas_outros_quais',\n",
       " 'retorno_fam_ori_fam_ado_judic_informa_decisoes',\n",
       " 'retorno_fam_ori_fam_ado_judic_nao_informa_decisoes',\n",
       " 'retorno_fam_ori_fam_ado_tempo_prepar_suficiente',\n",
       " 'retorno_fam_ori_fam_ado_tempo_prepar_insuficiente',\n",
       " 'freq_acompanh_fam_acolhedora',\n",
       " 'qtd_fam_processo_habilitacao',\n",
       " 'qtd_fam_aptas_ou_acolhendo',\n",
       " 'num_atual_fam_suficiente',\n",
       " 'imovel_sede_saf',\n",
       " 'espaco_fisico_sala_atendimento',\n",
       " 'espaco_fisico_espaco_reunioes',\n",
       " 'espaco_fisico_sala_equip_tec',\n",
       " 'espaco_fisico_sala_coord_adm',\n",
       " 'espaco_fisico_area_recepcao',\n",
       " 'espaco_fisico_copa',\n",
       " 'equipamentos_veiculo_exclusivo',\n",
       " 'equipamentos_veiculo_compartilhado',\n",
       " 'equipamentos_acervo_bibliog',\n",
       " 'equipamentos_mater_pedago',\n",
       " 'equipamentos_tel_fixo',\n",
       " 'equipamentos_cel',\n",
       " 'equipamentos_impressora',\n",
       " 'equipamentos_de_som',\n",
       " 'equipamentos_proj_imagens',\n",
       " 'equipamentos_bebedouro',\n",
       " 'equipamentos_comput_internet',\n",
       " 'equipamentos_qtd_comput_internet',\n",
       " 'equipe_tec_exclusiva_saf',\n",
       " 'coordenador_saf_situacao',\n",
       " 'capaci_equipe_tec_saf_presencial',\n",
       " 'capaci_equipe_tec_saf_ead',\n",
       " 'capaci_equipe_tec_saf_nao_faz',\n",
       " 'capaci_equipe_tec_saf_presencial_qtd',\n",
       " 'capaci_equipe_tec_saf_ead_qtd',\n",
       " 'IBGE7',\n",
       " 'nome_da_uf',\n",
       " 'Regiao',\n",
       " 'Município']"
      ]
     },
     "execution_count": 5,
     "metadata": {},
     "output_type": "execute_result"
    }
   ],
   "source": [
    "df_dados_gerais.columns.tolist()"
   ]
  },
  {
   "cell_type": "markdown",
   "id": "0844800c-b759-4306-b6ed-56d713915c90",
   "metadata": {},
   "source": [
    "## 3.1. Variável de subsídio mensal repassado às famílias acolhedoras"
   ]
  },
  {
   "cell_type": "markdown",
   "id": "578491a4-377f-4ec6-b538-79bdc5497b23",
   "metadata": {},
   "source": [
    "Alguns SFA ofertam subsídio mensal em reais às famílias acolhedoras. A variável 'subsidio_valor_mensal' refere-se ao valor mensal do subsídio financeiro repassado à cada família acolhedora por criança/adolescente."
   ]
  },
  {
   "cell_type": "code",
   "execution_count": 6,
   "id": "b82c965b-4100-4169-af21-a32965dddc09",
   "metadata": {},
   "outputs": [
    {
     "data": {
      "text/plain": [
       "array([<class 'float'>, <class 'str'>], dtype=object)"
      ]
     },
     "execution_count": 6,
     "metadata": {},
     "output_type": "execute_result"
    }
   ],
   "source": [
    "df_dados_gerais['subsidio_valor_mensal'].apply(type).unique()"
   ]
  },
  {
   "cell_type": "code",
   "execution_count": 7,
   "id": "cf6f3b30-d912-49d6-9146-6f5d80b53686",
   "metadata": {},
   "outputs": [],
   "source": [
    "# Transformar os dados em números\n",
    "df_dados_gerais['subsidio_valor_mensal'] = pd.to_numeric(df_dados_gerais['subsidio_valor_mensal'], errors='coerce')"
   ]
  },
  {
   "cell_type": "code",
   "execution_count": 8,
   "id": "8407e944-80e0-4e55-9571-11fb2ef42cd0",
   "metadata": {},
   "outputs": [
    {
     "data": {
      "text/plain": [
       "(620, 174)"
      ]
     },
     "execution_count": 8,
     "metadata": {},
     "output_type": "execute_result"
    }
   ],
   "source": [
    "df_dados_gerais.shape"
   ]
  },
  {
   "cell_type": "code",
   "execution_count": 9,
   "id": "1db117e4-36b1-4f17-a9a3-a445e3fa17c1",
   "metadata": {},
   "outputs": [
    {
     "data": {
      "text/plain": [
       "64"
      ]
     },
     "execution_count": 9,
     "metadata": {},
     "output_type": "execute_result"
    }
   ],
   "source": [
    "df_dados_gerais['subsidio_valor_mensal'].isna().sum()"
   ]
  },
  {
   "cell_type": "code",
   "execution_count": 10,
   "id": "0d315f9d-9423-401d-a398-c64839024292",
   "metadata": {},
   "outputs": [],
   "source": [
    "df_nulos_subsidio = df_dados_gerais[df_dados_gerais['subsidio_valor_mensal'].isna()]"
   ]
  },
  {
   "cell_type": "code",
   "execution_count": 11,
   "id": "49079858-eec5-45d4-9cdb-7576389d3b0c",
   "metadata": {},
   "outputs": [
    {
     "data": {
      "text/html": [
       "<div>\n",
       "<style scoped>\n",
       "    .dataframe tbody tr th:only-of-type {\n",
       "        vertical-align: middle;\n",
       "    }\n",
       "\n",
       "    .dataframe tbody tr th {\n",
       "        vertical-align: top;\n",
       "    }\n",
       "\n",
       "    .dataframe thead th {\n",
       "        text-align: right;\n",
       "    }\n",
       "</style>\n",
       "<table border=\"1\" class=\"dataframe\">\n",
       "  <thead>\n",
       "    <tr style=\"text-align: right;\">\n",
       "      <th></th>\n",
       "      <th>IBGE</th>\n",
       "      <th>NU_IDENTIFICADOR</th>\n",
       "      <th>municipio</th>\n",
       "      <th>uf</th>\n",
       "      <th>data_implementacao_unidade</th>\n",
       "      <th>Latitude</th>\n",
       "      <th>Longitude</th>\n",
       "      <th>natureza_unidade</th>\n",
       "      <th>custo_manutencao</th>\n",
       "      <th>servico_regulamentado</th>\n",
       "      <th>...</th>\n",
       "      <th>coordenador_saf_situacao</th>\n",
       "      <th>capaci_equipe_tec_saf_presencial</th>\n",
       "      <th>capaci_equipe_tec_saf_ead</th>\n",
       "      <th>capaci_equipe_tec_saf_nao_faz</th>\n",
       "      <th>capaci_equipe_tec_saf_presencial_qtd</th>\n",
       "      <th>capaci_equipe_tec_saf_ead_qtd</th>\n",
       "      <th>IBGE7</th>\n",
       "      <th>nome_da_uf</th>\n",
       "      <th>Regiao</th>\n",
       "      <th>Município</th>\n",
       "    </tr>\n",
       "  </thead>\n",
       "  <tbody>\n",
       "    <tr>\n",
       "      <th>0</th>\n",
       "      <td>110011</td>\n",
       "      <td>1,10011E+12</td>\n",
       "      <td>JARU</td>\n",
       "      <td>RO</td>\n",
       "      <td>29/03/2023</td>\n",
       "      <td>-10.439</td>\n",
       "      <td>-62.466</td>\n",
       "      <td>Governamental</td>\n",
       "      <td>NaN</td>\n",
       "      <td>Sim, por lei</td>\n",
       "      <td>...</td>\n",
       "      <td>Exerce concomitantemente a função de coordenad...</td>\n",
       "      <td>Não</td>\n",
       "      <td>Não</td>\n",
       "      <td>Não</td>\n",
       "      <td>NaN</td>\n",
       "      <td>NaN</td>\n",
       "      <td>1100114</td>\n",
       "      <td>Rondonia</td>\n",
       "      <td>Região Norte</td>\n",
       "      <td>Jaru</td>\n",
       "    </tr>\n",
       "    <tr>\n",
       "      <th>8</th>\n",
       "      <td>130340</td>\n",
       "      <td>1,3034E+12</td>\n",
       "      <td>PARINTINS</td>\n",
       "      <td>AM</td>\n",
       "      <td>01/10/2017</td>\n",
       "      <td>-26.331.842.224.955.400</td>\n",
       "      <td>-56.737.711.429.595.900</td>\n",
       "      <td>Governamental</td>\n",
       "      <td>NaN</td>\n",
       "      <td>Sim, por lei</td>\n",
       "      <td>...</td>\n",
       "      <td>Exerce exclusivamente a função de coordenador(...</td>\n",
       "      <td>Não</td>\n",
       "      <td>Sim</td>\n",
       "      <td>Não</td>\n",
       "      <td>NaN</td>\n",
       "      <td>4.0</td>\n",
       "      <td>1303403</td>\n",
       "      <td>Amazonas</td>\n",
       "      <td>Região Norte</td>\n",
       "      <td>Parintins</td>\n",
       "    </tr>\n",
       "    <tr>\n",
       "      <th>23</th>\n",
       "      <td>160010</td>\n",
       "      <td>1,6001E+12</td>\n",
       "      <td>AMAPA</td>\n",
       "      <td>AP</td>\n",
       "      <td>30/10/2023</td>\n",
       "      <td>20.520.089.817.919.700</td>\n",
       "      <td>-50.792.090.892.791.700</td>\n",
       "      <td>Governamental</td>\n",
       "      <td>NaN</td>\n",
       "      <td>Sim, por lei</td>\n",
       "      <td>...</td>\n",
       "      <td>Exerce exclusivamente a função de coordenador(...</td>\n",
       "      <td>Sim</td>\n",
       "      <td>Não</td>\n",
       "      <td>Não</td>\n",
       "      <td>3.0</td>\n",
       "      <td>NaN</td>\n",
       "      <td>1600105</td>\n",
       "      <td>Amapá</td>\n",
       "      <td>Região Norte</td>\n",
       "      <td>Amapá</td>\n",
       "    </tr>\n",
       "    <tr>\n",
       "      <th>36</th>\n",
       "      <td>210235</td>\n",
       "      <td>2,10235E+12</td>\n",
       "      <td>BURITIRANA</td>\n",
       "      <td>MA</td>\n",
       "      <td>01/01/2017</td>\n",
       "      <td>-551.795.185.375.319</td>\n",
       "      <td>-470.613.815.941.458</td>\n",
       "      <td>Governamental</td>\n",
       "      <td>NaN</td>\n",
       "      <td>Sim, por lei</td>\n",
       "      <td>...</td>\n",
       "      <td>Exerce exclusivamente a função de coordenador(...</td>\n",
       "      <td>Não</td>\n",
       "      <td>Não</td>\n",
       "      <td>Sim</td>\n",
       "      <td>NaN</td>\n",
       "      <td>NaN</td>\n",
       "      <td>2102358</td>\n",
       "      <td>Maranhão</td>\n",
       "      <td>Região Nordeste</td>\n",
       "      <td>Buritirana</td>\n",
       "    </tr>\n",
       "    <tr>\n",
       "      <th>37</th>\n",
       "      <td>210330</td>\n",
       "      <td>2,1033E+12</td>\n",
       "      <td>CODO</td>\n",
       "      <td>MA</td>\n",
       "      <td>21/07/2017</td>\n",
       "      <td>-4.462.538.556.340.480</td>\n",
       "      <td>-4.388.851.014.038.660</td>\n",
       "      <td>Governamental</td>\n",
       "      <td>NaN</td>\n",
       "      <td>Sim, por lei</td>\n",
       "      <td>...</td>\n",
       "      <td>Exerce concomitantemente a função de coordenad...</td>\n",
       "      <td>Sim</td>\n",
       "      <td>Não</td>\n",
       "      <td>Não</td>\n",
       "      <td>2.0</td>\n",
       "      <td>NaN</td>\n",
       "      <td>2103307</td>\n",
       "      <td>Maranhão</td>\n",
       "      <td>Região Nordeste</td>\n",
       "      <td>Codó</td>\n",
       "    </tr>\n",
       "  </tbody>\n",
       "</table>\n",
       "<p>5 rows × 174 columns</p>\n",
       "</div>"
      ],
      "text/plain": [
       "      IBGE NU_IDENTIFICADOR   municipio  uf data_implementacao_unidade  \\\n",
       "0   110011      1,10011E+12        JARU  RO                 29/03/2023   \n",
       "8   130340       1,3034E+12   PARINTINS  AM                 01/10/2017   \n",
       "23  160010       1,6001E+12       AMAPA  AP                 30/10/2023   \n",
       "36  210235      2,10235E+12  BURITIRANA  MA                 01/01/2017   \n",
       "37  210330       2,1033E+12        CODO  MA                 21/07/2017   \n",
       "\n",
       "                   Latitude                Longitude natureza_unidade  \\\n",
       "0                   -10.439                  -62.466    Governamental   \n",
       "8   -26.331.842.224.955.400  -56.737.711.429.595.900    Governamental   \n",
       "23   20.520.089.817.919.700  -50.792.090.892.791.700    Governamental   \n",
       "36     -551.795.185.375.319     -470.613.815.941.458    Governamental   \n",
       "37   -4.462.538.556.340.480   -4.388.851.014.038.660    Governamental   \n",
       "\n",
       "   custo_manutencao servico_regulamentado  ...  \\\n",
       "0               NaN          Sim, por lei  ...   \n",
       "8               NaN          Sim, por lei  ...   \n",
       "23              NaN          Sim, por lei  ...   \n",
       "36              NaN          Sim, por lei  ...   \n",
       "37              NaN          Sim, por lei  ...   \n",
       "\n",
       "                             coordenador_saf_situacao  \\\n",
       "0   Exerce concomitantemente a função de coordenad...   \n",
       "8   Exerce exclusivamente a função de coordenador(...   \n",
       "23  Exerce exclusivamente a função de coordenador(...   \n",
       "36  Exerce exclusivamente a função de coordenador(...   \n",
       "37  Exerce concomitantemente a função de coordenad...   \n",
       "\n",
       "    capaci_equipe_tec_saf_presencial capaci_equipe_tec_saf_ead  \\\n",
       "0                                Não                       Não   \n",
       "8                                Não                       Sim   \n",
       "23                               Sim                       Não   \n",
       "36                               Não                       Não   \n",
       "37                               Sim                       Não   \n",
       "\n",
       "   capaci_equipe_tec_saf_nao_faz capaci_equipe_tec_saf_presencial_qtd  \\\n",
       "0                            Não                                  NaN   \n",
       "8                            Não                                  NaN   \n",
       "23                           Não                                  3.0   \n",
       "36                           Sim                                  NaN   \n",
       "37                           Não                                  2.0   \n",
       "\n",
       "   capaci_equipe_tec_saf_ead_qtd    IBGE7 nome_da_uf           Regiao  \\\n",
       "0                            NaN  1100114   Rondonia     Região Norte   \n",
       "8                            4.0  1303403   Amazonas     Região Norte   \n",
       "23                           NaN  1600105      Amapá     Região Norte   \n",
       "36                           NaN  2102358   Maranhão  Região Nordeste   \n",
       "37                           NaN  2103307   Maranhão  Região Nordeste   \n",
       "\n",
       "     Município  \n",
       "0         Jaru  \n",
       "8    Parintins  \n",
       "23       Amapá  \n",
       "36  Buritirana  \n",
       "37        Codó  \n",
       "\n",
       "[5 rows x 174 columns]"
      ]
     },
     "execution_count": 11,
     "metadata": {},
     "output_type": "execute_result"
    }
   ],
   "source": [
    "df_nulos_subsidio.head()"
   ]
  },
  {
   "cell_type": "code",
   "execution_count": 12,
   "id": "e8f86389-eeb6-44ec-9fa7-c71249f06620",
   "metadata": {},
   "outputs": [
    {
     "data": {
      "text/plain": [
       "PR    14\n",
       "SP    11\n",
       "SC     9\n",
       "RS     6\n",
       "MA     5\n",
       "BA     4\n",
       "MG     4\n",
       "MS     2\n",
       "MT     2\n",
       "RO     1\n",
       "AM     1\n",
       "AP     1\n",
       "RN     1\n",
       "PB     1\n",
       "RJ     1\n",
       "GO     1\n",
       "Name: uf, dtype: int64"
      ]
     },
     "execution_count": 12,
     "metadata": {},
     "output_type": "execute_result"
    }
   ],
   "source": [
    "df_nulos_subsidio['uf'].value_counts()"
   ]
  },
  {
   "cell_type": "code",
   "execution_count": 13,
   "id": "0c09aceb-27ed-4de0-bd18-ec0e64a40567",
   "metadata": {},
   "outputs": [],
   "source": [
    "# Como há apenas 64 nulos em um universo de 620 linhas, atribuí 0 aos valores nulos, supondo que não há subsídio mensal - ainda que a resposta pode ter sido Não Sei\n",
    "df_dados_gerais['subsidio_valor_mensal'].fillna(0, inplace=True)"
   ]
  },
  {
   "cell_type": "code",
   "execution_count": 14,
   "id": "76551baf-05ad-47a5-9af8-a90f5e7b65d8",
   "metadata": {},
   "outputs": [
    {
     "data": {
      "text/plain": [
       "count      620.000000\n",
       "mean      1283.346774\n",
       "std       3370.194269\n",
       "min          0.000000\n",
       "25%        688.000000\n",
       "50%       1320.000000\n",
       "75%       1320.000000\n",
       "max      79200.000000\n",
       "Name: subsidio_valor_mensal, dtype: float64"
      ]
     },
     "execution_count": 14,
     "metadata": {},
     "output_type": "execute_result"
    }
   ],
   "source": [
    "# Verificar os outliers\n",
    "df_dados_gerais['subsidio_valor_mensal'].describe()"
   ]
  },
  {
   "cell_type": "code",
   "execution_count": 15,
   "id": "ac887601-bf94-4759-9661-68ff10365eca",
   "metadata": {},
   "outputs": [
    {
     "name": "stdout",
     "output_type": "stream",
     "text": [
      "Limite superior para outliers: 2268.0\n"
     ]
    }
   ],
   "source": [
    "# Calcular os quartis e o intervalo interquartil (IQR)\n",
    "q1 = df_dados_gerais['subsidio_valor_mensal'].quantile(0.25)\n",
    "q3 = df_dados_gerais['subsidio_valor_mensal'].quantile(0.75)\n",
    "iqr = q3 - q1\n",
    "\n",
    "# Determinar o limite superior para outliers\n",
    "limite_superior = q3 + 1.5 * iqr\n",
    "\n",
    "# Filtrar os outliers\n",
    "outliers = df_dados_gerais[df_dados_gerais['subsidio_valor_mensal'] > limite_superior]\n",
    "\n",
    "# Exibir o limite superior para referência\n",
    "print(f\"Limite superior para outliers: {limite_superior}\")"
   ]
  },
  {
   "cell_type": "code",
   "execution_count": 16,
   "id": "5ca99263-7e1f-42c5-9769-b64797bf7070",
   "metadata": {},
   "outputs": [
    {
     "data": {
      "text/html": [
       "<div>\n",
       "<style scoped>\n",
       "    .dataframe tbody tr th:only-of-type {\n",
       "        vertical-align: middle;\n",
       "    }\n",
       "\n",
       "    .dataframe tbody tr th {\n",
       "        vertical-align: top;\n",
       "    }\n",
       "\n",
       "    .dataframe thead th {\n",
       "        text-align: right;\n",
       "    }\n",
       "</style>\n",
       "<table border=\"1\" class=\"dataframe\">\n",
       "  <thead>\n",
       "    <tr style=\"text-align: right;\">\n",
       "      <th></th>\n",
       "      <th>municipio</th>\n",
       "      <th>uf</th>\n",
       "      <th>subsidio_valor_mensal</th>\n",
       "    </tr>\n",
       "  </thead>\n",
       "  <tbody>\n",
       "    <tr>\n",
       "      <th>219</th>\n",
       "      <td>VILA VELHA</td>\n",
       "      <td>ES</td>\n",
       "      <td>79200.0</td>\n",
       "    </tr>\n",
       "    <tr>\n",
       "      <th>381</th>\n",
       "      <td>MARIOPOLIS</td>\n",
       "      <td>PR</td>\n",
       "      <td>26400.0</td>\n",
       "    </tr>\n",
       "    <tr>\n",
       "      <th>469</th>\n",
       "      <td>FLORIANOPOLIS</td>\n",
       "      <td>SC</td>\n",
       "      <td>13000.0</td>\n",
       "    </tr>\n",
       "    <tr>\n",
       "      <th>218</th>\n",
       "      <td>PEDRO CANARIO</td>\n",
       "      <td>ES</td>\n",
       "      <td>2640.0</td>\n",
       "    </tr>\n",
       "    <tr>\n",
       "      <th>272</th>\n",
       "      <td>PAULINIA</td>\n",
       "      <td>SP</td>\n",
       "      <td>2640.0</td>\n",
       "    </tr>\n",
       "    <tr>\n",
       "      <th>499</th>\n",
       "      <td>NOVO HORIZONTE</td>\n",
       "      <td>SC</td>\n",
       "      <td>2640.0</td>\n",
       "    </tr>\n",
       "    <tr>\n",
       "      <th>505</th>\n",
       "      <td>PERITIBA</td>\n",
       "      <td>SC</td>\n",
       "      <td>2640.0</td>\n",
       "    </tr>\n",
       "    <tr>\n",
       "      <th>509</th>\n",
       "      <td>POMERODE</td>\n",
       "      <td>SC</td>\n",
       "      <td>2640.0</td>\n",
       "    </tr>\n",
       "    <tr>\n",
       "      <th>325</th>\n",
       "      <td>CAFELANDIA</td>\n",
       "      <td>PR</td>\n",
       "      <td>2369.0</td>\n",
       "    </tr>\n",
       "  </tbody>\n",
       "</table>\n",
       "</div>"
      ],
      "text/plain": [
       "          municipio  uf  subsidio_valor_mensal\n",
       "219      VILA VELHA  ES                79200.0\n",
       "381      MARIOPOLIS  PR                26400.0\n",
       "469   FLORIANOPOLIS  SC                13000.0\n",
       "218   PEDRO CANARIO  ES                 2640.0\n",
       "272        PAULINIA  SP                 2640.0\n",
       "499  NOVO HORIZONTE  SC                 2640.0\n",
       "505        PERITIBA  SC                 2640.0\n",
       "509        POMERODE  SC                 2640.0\n",
       "325      CAFELANDIA  PR                 2369.0"
      ]
     },
     "execution_count": 16,
     "metadata": {},
     "output_type": "execute_result"
    }
   ],
   "source": [
    "# Atenção às observações acima de 13 mil, assim, melhor retirá-las do que inferir os valores, uma vez que são apenas 3 linhas\n",
    "outliers[['municipio', 'uf', 'subsidio_valor_mensal']].sort_values(by='subsidio_valor_mensal', ascending=False)"
   ]
  },
  {
   "cell_type": "code",
   "execution_count": 17,
   "id": "2f8f438b-6906-4363-95e0-77f0142615e2",
   "metadata": {},
   "outputs": [
    {
     "name": "stdout",
     "output_type": "stream",
     "text": [
      "Total de outliers removidos: 3\n"
     ]
    }
   ],
   "source": [
    "# Filtrar para manter apenas valores iguais ou abaixo de 13000\n",
    "df_sem_outliers = df_dados_gerais[df_dados_gerais['subsidio_valor_mensal'] < 13000]\n",
    "\n",
    "# Verificar quantas linhas foram removidas\n",
    "removidas = len(df_dados_gerais) - len(df_sem_outliers)\n",
    "print(f\"Total de outliers removidos: {removidas}\")"
   ]
  },
  {
   "cell_type": "code",
   "execution_count": 18,
   "id": "37f60457-d13e-4904-a3ca-646ad75777be",
   "metadata": {},
   "outputs": [
    {
     "data": {
      "text/html": [
       "<div>\n",
       "<style scoped>\n",
       "    .dataframe tbody tr th:only-of-type {\n",
       "        vertical-align: middle;\n",
       "    }\n",
       "\n",
       "    .dataframe tbody tr th {\n",
       "        vertical-align: top;\n",
       "    }\n",
       "\n",
       "    .dataframe thead th {\n",
       "        text-align: right;\n",
       "    }\n",
       "</style>\n",
       "<table border=\"1\" class=\"dataframe\">\n",
       "  <thead>\n",
       "    <tr style=\"text-align: right;\">\n",
       "      <th></th>\n",
       "      <th>uf</th>\n",
       "      <th>Regiao</th>\n",
       "      <th>subsidio_valor_mensal</th>\n",
       "    </tr>\n",
       "  </thead>\n",
       "  <tbody>\n",
       "    <tr>\n",
       "      <th>21</th>\n",
       "      <td>SC</td>\n",
       "      <td>Região Sul</td>\n",
       "      <td>1334.490385</td>\n",
       "    </tr>\n",
       "    <tr>\n",
       "      <th>0</th>\n",
       "      <td>AC</td>\n",
       "      <td>Região Norte</td>\n",
       "      <td>1320.000000</td>\n",
       "    </tr>\n",
       "    <tr>\n",
       "      <th>6</th>\n",
       "      <td>ES</td>\n",
       "      <td>Região Sudeste</td>\n",
       "      <td>1320.000000</td>\n",
       "    </tr>\n",
       "    <tr>\n",
       "      <th>16</th>\n",
       "      <td>PR</td>\n",
       "      <td>Região Sul</td>\n",
       "      <td>1195.407692</td>\n",
       "    </tr>\n",
       "    <tr>\n",
       "      <th>10</th>\n",
       "      <td>MS</td>\n",
       "      <td>Região Centro Oeste</td>\n",
       "      <td>1170.869565</td>\n",
       "    </tr>\n",
       "    <tr>\n",
       "      <th>14</th>\n",
       "      <td>PE</td>\n",
       "      <td>Região Nordeste</td>\n",
       "      <td>1153.875000</td>\n",
       "    </tr>\n",
       "    <tr>\n",
       "      <th>22</th>\n",
       "      <td>SP</td>\n",
       "      <td>Região Sudeste</td>\n",
       "      <td>1122.438596</td>\n",
       "    </tr>\n",
       "    <tr>\n",
       "      <th>13</th>\n",
       "      <td>PB</td>\n",
       "      <td>Região Nordeste</td>\n",
       "      <td>1089.285714</td>\n",
       "    </tr>\n",
       "    <tr>\n",
       "      <th>12</th>\n",
       "      <td>PA</td>\n",
       "      <td>Região Norte</td>\n",
       "      <td>1085.833333</td>\n",
       "    </tr>\n",
       "    <tr>\n",
       "      <th>23</th>\n",
       "      <td>TO</td>\n",
       "      <td>Região Norte</td>\n",
       "      <td>1072.500000</td>\n",
       "    </tr>\n",
       "    <tr>\n",
       "      <th>20</th>\n",
       "      <td>RS</td>\n",
       "      <td>Região Sul</td>\n",
       "      <td>1055.333333</td>\n",
       "    </tr>\n",
       "    <tr>\n",
       "      <th>4</th>\n",
       "      <td>CE</td>\n",
       "      <td>Região Nordeste</td>\n",
       "      <td>1046.000000</td>\n",
       "    </tr>\n",
       "    <tr>\n",
       "      <th>9</th>\n",
       "      <td>MG</td>\n",
       "      <td>Região Sudeste</td>\n",
       "      <td>996.708333</td>\n",
       "    </tr>\n",
       "    <tr>\n",
       "      <th>7</th>\n",
       "      <td>GO</td>\n",
       "      <td>Região Centro Oeste</td>\n",
       "      <td>984.375000</td>\n",
       "    </tr>\n",
       "    <tr>\n",
       "      <th>1</th>\n",
       "      <td>AM</td>\n",
       "      <td>Região Norte</td>\n",
       "      <td>957.142857</td>\n",
       "    </tr>\n",
       "    <tr>\n",
       "      <th>11</th>\n",
       "      <td>MT</td>\n",
       "      <td>Região Centro Oeste</td>\n",
       "      <td>946.666667</td>\n",
       "    </tr>\n",
       "    <tr>\n",
       "      <th>17</th>\n",
       "      <td>RJ</td>\n",
       "      <td>Região Sudeste</td>\n",
       "      <td>916.551724</td>\n",
       "    </tr>\n",
       "    <tr>\n",
       "      <th>19</th>\n",
       "      <td>RO</td>\n",
       "      <td>Região Norte</td>\n",
       "      <td>880.000000</td>\n",
       "    </tr>\n",
       "    <tr>\n",
       "      <th>18</th>\n",
       "      <td>RN</td>\n",
       "      <td>Região Nordeste</td>\n",
       "      <td>807.272727</td>\n",
       "    </tr>\n",
       "    <tr>\n",
       "      <th>3</th>\n",
       "      <td>BA</td>\n",
       "      <td>Região Nordeste</td>\n",
       "      <td>742.583333</td>\n",
       "    </tr>\n",
       "    <tr>\n",
       "      <th>8</th>\n",
       "      <td>MA</td>\n",
       "      <td>Região Nordeste</td>\n",
       "      <td>626.800000</td>\n",
       "    </tr>\n",
       "    <tr>\n",
       "      <th>15</th>\n",
       "      <td>PI</td>\n",
       "      <td>Região Nordeste</td>\n",
       "      <td>500.000000</td>\n",
       "    </tr>\n",
       "    <tr>\n",
       "      <th>5</th>\n",
       "      <td>DF</td>\n",
       "      <td>Região Centro Oeste</td>\n",
       "      <td>456.000000</td>\n",
       "    </tr>\n",
       "    <tr>\n",
       "      <th>2</th>\n",
       "      <td>AP</td>\n",
       "      <td>Região Norte</td>\n",
       "      <td>220.000000</td>\n",
       "    </tr>\n",
       "  </tbody>\n",
       "</table>\n",
       "</div>"
      ],
      "text/plain": [
       "    uf               Regiao  subsidio_valor_mensal\n",
       "21  SC           Região Sul            1334.490385\n",
       "0   AC         Região Norte            1320.000000\n",
       "6   ES       Região Sudeste            1320.000000\n",
       "16  PR           Região Sul            1195.407692\n",
       "10  MS  Região Centro Oeste            1170.869565\n",
       "14  PE      Região Nordeste            1153.875000\n",
       "22  SP       Região Sudeste            1122.438596\n",
       "13  PB      Região Nordeste            1089.285714\n",
       "12  PA         Região Norte            1085.833333\n",
       "23  TO         Região Norte            1072.500000\n",
       "20  RS           Região Sul            1055.333333\n",
       "4   CE      Região Nordeste            1046.000000\n",
       "9   MG       Região Sudeste             996.708333\n",
       "7   GO  Região Centro Oeste             984.375000\n",
       "1   AM         Região Norte             957.142857\n",
       "11  MT  Região Centro Oeste             946.666667\n",
       "17  RJ       Região Sudeste             916.551724\n",
       "19  RO         Região Norte             880.000000\n",
       "18  RN      Região Nordeste             807.272727\n",
       "3   BA      Região Nordeste             742.583333\n",
       "8   MA      Região Nordeste             626.800000\n",
       "15  PI      Região Nordeste             500.000000\n",
       "5   DF  Região Centro Oeste             456.000000\n",
       "2   AP         Região Norte             220.000000"
      ]
     },
     "execution_count": 18,
     "metadata": {},
     "output_type": "execute_result"
    }
   ],
   "source": [
    "# Calcula a média por UF\n",
    "media_por_uf_sem_outliers = df_sem_outliers.groupby(['uf', 'Regiao'])['subsidio_valor_mensal'].mean().reset_index()\n",
    "media_por_uf_sem_outliers.sort_values(by='subsidio_valor_mensal', ascending=False)"
   ]
  },
  {
   "cell_type": "code",
   "execution_count": 19,
   "id": "22273864-11dd-4e53-9573-425ca507c275",
   "metadata": {},
   "outputs": [],
   "source": [
    "# Define cores para cada região\n",
    "cores_regiao = {\n",
    "    'Região Norte': 'blue', 'Região Nordeste': 'green', 'Região Centro Oeste': 'orange',\n",
    "    'Região Sudeste': 'red', 'Região Sul': 'purple'\n",
    "}"
   ]
  },
  {
   "cell_type": "code",
   "execution_count": 20,
   "id": "bea368c0-21ad-43dd-96e8-5c51fbcdfcc0",
   "metadata": {},
   "outputs": [
    {
     "data": {
      "image/png": "[encoded data removed]",
      "text/plain": [
       "<Figure size 1200x800 with 1 Axes>"
      ]
     },
     "metadata": {},
     "output_type": "display_data"
    }
   ],
   "source": [
    "# Cria o gráfico de barras\n",
    "plt.figure(figsize=(12, 8))\n",
    "for regiao, cor in cores_regiao.items():\n",
    "    subset = media_por_uf_sem_outliers[media_por_uf_sem_outliers['Regiao'] == regiao]\n",
    "    plt.bar(subset['uf'], subset['subsidio_valor_mensal'], label=regiao, color=cor)\n",
    "\n",
    "# Configurações do gráfico\n",
    "plt.title('Média mensal de subsídio repassado às famílias acolhedoras')\n",
    "plt.xlabel('UF')\n",
    "plt.ylabel('Média mensal de subsídio')\n",
    "plt.xticks(rotation=45)\n",
    "plt.legend(title='Região')\n",
    "plt.tight_layout()\n",
    "plt.show()"
   ]
  },
  {
   "cell_type": "markdown",
   "id": "54f2c6f1-9056-4c45-83d1-6df888cffee1",
   "metadata": {},
   "source": [
    "## 3.2. Demais variáveis de apoio/isenção destinado às famílias acolhedoras"
   ]
  },
  {
   "cell_type": "markdown",
   "id": "e2a6f933-eb99-426b-99a1-f22f3f0fda8d",
   "metadata": {},
   "source": [
    "- 'subsidio_itens_manutencao': são disponibilizados itens para a manutenção da criança/adolescente acolhida (p.ex: fraldas, vestuário,\n",
    "alimentação, medicamentos, material escolar, dentre outros)\n",
    "- 'subsidio_mobiliario_transporte': são disponibilizados itens de mobiliário e transporte para uso da criança/adolescente acolhida (p.ex:\n",
    "berço, carrinho de bebê, etc.)\n",
    "- 'subsidio_isencao_imposto_taxa': há isenção de impostos ou taxas públicas (p.ex: IPTU, etc)\n",
    "- 'subsidio_outros': há outros tipos de apoio não financeiro ou isenção\n",
    "- 'subsidio_nao_repassa': não há outro tipo de apoio não financeiro ou isenção\n",
    "- 'subsidio_outros_quais': quais são os outros tipos de apoio não financeiro ou isenção"
   ]
  },
  {
   "cell_type": "code",
   "execution_count": 21,
   "id": "1bfcf3bf-9ddc-4370-a625-d500251042ae",
   "metadata": {},
   "outputs": [
    {
     "data": {
      "text/plain": [
       "array([<class 'float'>, <class 'str'>], dtype=object)"
      ]
     },
     "execution_count": 21,
     "metadata": {},
     "output_type": "execute_result"
    }
   ],
   "source": [
    "df_dados_gerais['subsidio_itens_manutencao'].apply(type).unique()"
   ]
  },
  {
   "cell_type": "code",
   "execution_count": 22,
   "id": "71d19605-c127-4680-ba53-483cbe0d5d8b",
   "metadata": {},
   "outputs": [
    {
     "data": {
      "text/plain": [
       "Sim    156\n",
       "Não     71\n",
       "Name: subsidio_itens_manutencao, dtype: int64"
      ]
     },
     "execution_count": 22,
     "metadata": {},
     "output_type": "execute_result"
    }
   ],
   "source": [
    "df_dados_gerais['subsidio_itens_manutencao'].value_counts()"
   ]
  },
  {
   "cell_type": "code",
   "execution_count": 23,
   "id": "fe4183a7-dbe1-42c8-b4a0-89cbff594f6a",
   "metadata": {},
   "outputs": [
    {
     "data": {
      "text/plain": [
       "Não    141\n",
       "Sim     86\n",
       "Name: subsidio_mobiliario_transporte, dtype: int64"
      ]
     },
     "execution_count": 23,
     "metadata": {},
     "output_type": "execute_result"
    }
   ],
   "source": [
    "df_dados_gerais['subsidio_mobiliario_transporte'].value_counts()"
   ]
  },
  {
   "cell_type": "code",
   "execution_count": 24,
   "id": "7f9cd643-0f5e-4f1f-b562-3294d8cbf5fc",
   "metadata": {},
   "outputs": [
    {
     "data": {
      "text/plain": [
       "Não    176\n",
       "Sim     51\n",
       "Name: subsidio_isencao_imposto_taxa, dtype: int64"
      ]
     },
     "execution_count": 24,
     "metadata": {},
     "output_type": "execute_result"
    }
   ],
   "source": [
    "df_dados_gerais['subsidio_isencao_imposto_taxa'].value_counts()"
   ]
  },
  {
   "cell_type": "code",
   "execution_count": 25,
   "id": "597902a1-e768-4be9-97a9-8da8e0a6e32a",
   "metadata": {},
   "outputs": [
    {
     "data": {
      "text/plain": [
       "Não    203\n",
       "Sim     24\n",
       "Name: subsidio_outros, dtype: int64"
      ]
     },
     "execution_count": 25,
     "metadata": {},
     "output_type": "execute_result"
    }
   ],
   "source": [
    "df_dados_gerais['subsidio_outros'].value_counts()"
   ]
  },
  {
   "cell_type": "code",
   "execution_count": 26,
   "id": "cabbd0ed-f7c9-437e-b34c-751fab33d258",
   "metadata": {},
   "outputs": [
    {
     "data": {
      "text/plain": [
       "Sim    393\n",
       "Não    227\n",
       "Name: subsidio_nao_repassa, dtype: int64"
      ]
     },
     "execution_count": 26,
     "metadata": {},
     "output_type": "execute_result"
    }
   ],
   "source": [
    "df_dados_gerais['subsidio_nao_repassa'].value_counts()"
   ]
  },
  {
   "cell_type": "code",
   "execution_count": 27,
   "id": "8951c5a1-64d5-43c5-b7d8-4eb507d1a1cb",
   "metadata": {},
   "outputs": [],
   "source": [
    "colunas_subsidios = ['subsidio_itens_manutencao', 'subsidio_mobiliario_transporte', 'subsidio_isencao_imposto_taxa', 'subsidio_outros', 'subsidio_nao_repassa']"
   ]
  },
  {
   "cell_type": "code",
   "execution_count": 28,
   "id": "9ad063ea-db3c-4548-9555-eddf84b03ef5",
   "metadata": {},
   "outputs": [
    {
     "data": {
      "text/plain": [
       "subsidio_itens_manutencao         393\n",
       "subsidio_mobiliario_transporte    393\n",
       "subsidio_isencao_imposto_taxa     393\n",
       "subsidio_outros                   393\n",
       "subsidio_nao_repassa                0\n",
       "dtype: int64"
      ]
     },
     "execution_count": 28,
     "metadata": {},
     "output_type": "execute_result"
    }
   ],
   "source": [
    "df_dados_gerais[colunas_subsidios].isna().sum()"
   ]
  },
  {
   "cell_type": "code",
   "execution_count": 29,
   "id": "a987af67-424e-4da2-9434-dc68ac724442",
   "metadata": {},
   "outputs": [],
   "source": [
    "# Como há valores nulos nas variáveis e, como não há informação se é Não, a melhor forma é filtrar as colunas para contar apenas Sim e Não, ignorando os NaNs\n",
    "freq_df = df_dados_gerais[colunas_subsidios].apply(lambda x: x.value_counts(dropna=True)).T"
   ]
  },
  {
   "cell_type": "code",
   "execution_count": 30,
   "id": "d6d9454b-0217-46c6-96d2-5080569982b7",
   "metadata": {},
   "outputs": [
    {
     "data": {
      "image/png": "[encoded data removed]",
      "text/plain": [
       "<Figure size 1000x600 with 1 Axes>"
      ]
     },
     "metadata": {},
     "output_type": "display_data"
    }
   ],
   "source": [
    "# Plotando o gráfico\n",
    "plt.figure(figsize=(10, 6))\n",
    "sns.heatmap(freq_df[['Sim', 'Não']], annot=True, cmap='Blues', cbar=False, fmt='d')\n",
    "plt.title('Tipo de apoio para famílias acolhedoras')\n",
    "plt.xlabel('Resposta')\n",
    "plt.ylabel('Variáveis')\n",
    "plt.show()"
   ]
  },
  {
   "cell_type": "code",
   "execution_count": 31,
   "id": "47e1dd4c-c996-49ee-b24d-b6c6d2a3ddba",
   "metadata": {},
   "outputs": [
    {
     "data": {
      "text/plain": [
       "Incentivos através de descontos em bens e serviços em empresas privadas para famílias acolhedoras    1\n",
       "alimentação, quite higiene                                                                           1\n",
       "AUXILIO ALIMENTAR                                                                                    1\n",
       "1/2 SALÁRIO MÍNIMO PARA FAMILIAS ACOLHEDORAS                                                         1\n",
       "Descanso anual sem perda do subsidio                                                                 1\n",
       "As famílias recebem incentivo de meio saláriofixo mensal, independente de ter criança em acolhime    1\n",
       "Bolsa-Auxílio                                                                                        1\n",
       "No caso de criança PcD, 50% a mais do subsídio,                                                      1\n",
       "cesta basica                                                                                         1\n",
       "itens para atendimento inicial até o repasse do subsidio                                             1\n",
       "transporte das crianças para os atendimentos                                                         1\n",
       "Consultas particulares e compra de medicamentos de uso contínuo que não são fornecidos pelo SUS,     1\n",
       "pagamento quando há acolhidos                                                                        1\n",
       "O acolhimento de crianças, adolescentes, idosos e pessoa com deficiência com demandas específicas    1\n",
       "dependendo da complexidade da deficiência a família recebe meia bolsa auxilio a mais                 1\n",
       "O município da suporte através do beneficio eventual (cesta básica), roupas, itens de higiene, be    1\n",
       "auxilio alimemtação                                                                                  1\n",
       "Benefício Eventual, cartão alimentação conforme avaliação da equipe técnica,                         1\n",
       "Amparo com transporte aos agendamentos na rede, transporte para as visitas                           1\n",
       "Bolsa Natalina                                                                                       1\n",
       "Só no 1º mês do acolhimento - Suporte alimentar ofertado pelos CRAS,                                 1\n",
       "Benefícios Eventuais, quandoa avaliada a necessidade                                                 1\n",
       "Beneficio Eventual                                                                                   1\n",
       "Prioridade nas matriculas em CMEIs e escolas                                                         1\n",
       "Name: subsidio_outros_quais, dtype: int64"
      ]
     },
     "execution_count": 31,
     "metadata": {},
     "output_type": "execute_result"
    }
   ],
   "source": [
    "df_dados_gerais['subsidio_outros_quais'].value_counts()"
   ]
  }
 ],
 "metadata": {
  "kernelspec": {
   "display_name": "Python 3 (ipykernel)",
   "language": "python",
   "name": "python3"
  },
  "language_info": {
   "codemirror_mode": {
    "name": "ipython",
    "version": 3
   },
   "file_extension": ".py",
   "mimetype": "text/x-python",
   "name": "python",
   "nbconvert_exporter": "python",
   "pygments_lexer": "ipython3",
   "version": "3.9.6"
  }
 },
 "nbformat": 4,
 "nbformat_minor": 5
}
