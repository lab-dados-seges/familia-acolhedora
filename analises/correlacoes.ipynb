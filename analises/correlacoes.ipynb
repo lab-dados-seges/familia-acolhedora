{
 "cells": [
  {
   "cell_type": "markdown",
   "id": "c42d0a5e-630c-46cb-a57b-46f0547248d9",
   "metadata": {},
   "source": [
    "# Correlações lineares entre as variáveis de interesse"
   ]
  },
  {
   "cell_type": "code",
   "execution_count": 1,
   "id": "35d350a1-eaf3-4c16-8139-ad2b979aa9ff",
   "metadata": {},
   "outputs": [],
   "source": [
    "import pandas as pd\n",
    "import numpy as np\n",
    "import seaborn as sns\n",
    "import matplotlib.pyplot as plt"
   ]
  },
  {
   "cell_type": "markdown",
   "id": "bc1d009b-14de-4469-9fa7-3e60c8000adc",
   "metadata": {},
   "source": [
    "### Correlação entre subsídio mensal e quantidade de famílias aptas/acolhendo"
   ]
  },
  {
   "cell_type": "markdown",
   "id": "82cc19af-5985-4a73-bf52-5dc9dd73616b",
   "metadata": {},
   "source": [
    "A correlação parte do pressuposto que há relação linear entre as variáveis subsídio_valor_mensal e qtd_fam_apt. A correlação foi feita a partir dos dados desagregados."
   ]
  },
  {
   "cell_type": "code",
   "execution_count": null,
   "id": "9820c552-1f7f-44c5-a8d7-5a0561a7e94b",
   "metadata": {},
   "outputs": [],
   "source": []
  },
  {
   "cell_type": "markdown",
   "id": "15ebed67-626f-4545-b037-a32f2dd265f3",
   "metadata": {},
   "source": [
    "### Correlação entre quantidade de famílias aptas/acolhendo e se o número é suficiente"
   ]
  },
  {
   "cell_type": "code",
   "execution_count": null,
   "id": "b2885588-514a-4807-9c1b-fb9496c7198e",
   "metadata": {},
   "outputs": [],
   "source": []
  }
 ],
 "metadata": {
  "kernelspec": {
   "display_name": "Python 3 (ipykernel)",
   "language": "python",
   "name": "python3"
  },
  "language_info": {
   "codemirror_mode": {
    "name": "ipython",
    "version": 3
   },
   "file_extension": ".py",
   "mimetype": "text/x-python",
   "name": "python",
   "nbconvert_exporter": "python",
   "pygments_lexer": "ipython3",
   "version": "3.9.6"
  }
 },
 "nbformat": 4,
 "nbformat_minor": 5
}
